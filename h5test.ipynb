{
 "cells": [
  {
   "cell_type": "code",
   "execution_count": 1,
   "metadata": {},
   "outputs": [],
   "source": [
    "import pandas as pd"
   ]
  },
  {
   "cell_type": "code",
   "execution_count": 7,
   "metadata": {},
   "outputs": [],
   "source": [
    "data = pd.HDFStore('/Users/fizaa/Downloads/results_mapc_run_26_run_results.h5',mode = 'r')"
   ]
  },
  {
   "cell_type": "code",
   "execution_count": 9,
   "metadata": {},
   "outputs": [
    {
     "data": {
      "text/plain": [
       "['/2050/households',\n",
       " '/2050/jobs',\n",
       " '/2050/residential_units',\n",
       " '/2040/households',\n",
       " '/2040/jobs',\n",
       " '/2040/residential_units',\n",
       " '/2030/households',\n",
       " '/2030/jobs',\n",
       " '/2030/residential_units',\n",
       " '/2020/households',\n",
       " '/2020/jobs',\n",
       " '/2020/residential_units',\n",
       " '/2011/households',\n",
       " '/2011/jobs',\n",
       " '/2011/residential_units',\n",
       " '/2010/households',\n",
       " '/2010/jobs',\n",
       " '/2010/residential_units']"
      ]
     },
     "execution_count": 9,
     "metadata": {},
     "output_type": "execute_result"
    }
   ],
   "source": [
    "data.keys()"
   ]
  },
  {
   "cell_type": "code",
   "execution_count": 13,
   "metadata": {},
   "outputs": [],
   "source": [
    "households2050 = data.get('/2050/households')"
   ]
  },
  {
   "cell_type": "code",
   "execution_count": 14,
   "metadata": {},
   "outputs": [
    {
     "data": {
      "text/plain": [
       "pandas.core.frame.DataFrame"
      ]
     },
     "execution_count": 14,
     "metadata": {},
     "output_type": "execute_result"
    }
   ],
   "source": [
    "type(households2050)"
   ]
  },
  {
   "cell_type": "code",
   "execution_count": 15,
   "metadata": {},
   "outputs": [
    {
     "data": {
      "text/html": [
       "<div>\n",
       "<style scoped>\n",
       "    .dataframe tbody tr th:only-of-type {\n",
       "        vertical-align: middle;\n",
       "    }\n",
       "\n",
       "    .dataframe tbody tr th {\n",
       "        vertical-align: top;\n",
       "    }\n",
       "\n",
       "    .dataframe thead th {\n",
       "        text-align: right;\n",
       "    }\n",
       "</style>\n",
       "<table border=\"1\" class=\"dataframe\">\n",
       "  <thead>\n",
       "    <tr style=\"text-align: right;\">\n",
       "      <th></th>\n",
       "      <th>race_of_head</th>\n",
       "      <th>workers</th>\n",
       "      <th>recent_mover</th>\n",
       "      <th>block_group</th>\n",
       "      <th>serialno</th>\n",
       "      <th>hispanic_status_of_head</th>\n",
       "      <th>children</th>\n",
       "      <th>subregion_id</th>\n",
       "      <th>persons</th>\n",
       "      <th>income</th>\n",
       "      <th>county</th>\n",
       "      <th>block_id</th>\n",
       "      <th>state</th>\n",
       "      <th>tract</th>\n",
       "      <th>cars</th>\n",
       "      <th>tenure</th>\n",
       "      <th>age_of_head</th>\n",
       "    </tr>\n",
       "    <tr>\n",
       "      <th>household_id</th>\n",
       "      <th></th>\n",
       "      <th></th>\n",
       "      <th></th>\n",
       "      <th></th>\n",
       "      <th></th>\n",
       "      <th></th>\n",
       "      <th></th>\n",
       "      <th></th>\n",
       "      <th></th>\n",
       "      <th></th>\n",
       "      <th></th>\n",
       "      <th></th>\n",
       "      <th></th>\n",
       "      <th></th>\n",
       "      <th></th>\n",
       "      <th></th>\n",
       "      <th></th>\n",
       "    </tr>\n",
       "  </thead>\n",
       "  <tbody>\n",
       "    <tr>\n",
       "      <th>1033024</th>\n",
       "      <td>1</td>\n",
       "      <td>0.0</td>\n",
       "      <td>0</td>\n",
       "      <td>1</td>\n",
       "      <td>2010000769167</td>\n",
       "      <td>0</td>\n",
       "      <td>0</td>\n",
       "      <td>1</td>\n",
       "      <td>1</td>\n",
       "      <td>21400.0</td>\n",
       "      <td>017</td>\n",
       "      <td>250173361001002</td>\n",
       "      <td>25</td>\n",
       "      <td>336100</td>\n",
       "      <td>0.0</td>\n",
       "      <td>1</td>\n",
       "      <td>85</td>\n",
       "    </tr>\n",
       "    <tr>\n",
       "      <th>1033025</th>\n",
       "      <td>1</td>\n",
       "      <td>0.0</td>\n",
       "      <td>0</td>\n",
       "      <td>1</td>\n",
       "      <td>2011000604701</td>\n",
       "      <td>0</td>\n",
       "      <td>0</td>\n",
       "      <td>1</td>\n",
       "      <td>1</td>\n",
       "      <td>11100.0</td>\n",
       "      <td>017</td>\n",
       "      <td>250173361001017</td>\n",
       "      <td>25</td>\n",
       "      <td>336100</td>\n",
       "      <td>0.0</td>\n",
       "      <td>1</td>\n",
       "      <td>94</td>\n",
       "    </tr>\n",
       "    <tr>\n",
       "      <th>1033027</th>\n",
       "      <td>1</td>\n",
       "      <td>0.0</td>\n",
       "      <td>0</td>\n",
       "      <td>2</td>\n",
       "      <td>2011000910010</td>\n",
       "      <td>0</td>\n",
       "      <td>0</td>\n",
       "      <td>1</td>\n",
       "      <td>1</td>\n",
       "      <td>15800.0</td>\n",
       "      <td>017</td>\n",
       "      <td>250173361002000</td>\n",
       "      <td>25</td>\n",
       "      <td>336100</td>\n",
       "      <td>0.0</td>\n",
       "      <td>2</td>\n",
       "      <td>81</td>\n",
       "    </tr>\n",
       "    <tr>\n",
       "      <th>1033032</th>\n",
       "      <td>1</td>\n",
       "      <td>0.0</td>\n",
       "      <td>0</td>\n",
       "      <td>1</td>\n",
       "      <td>2011000638851</td>\n",
       "      <td>0</td>\n",
       "      <td>0</td>\n",
       "      <td>1</td>\n",
       "      <td>1</td>\n",
       "      <td>0.0</td>\n",
       "      <td>017</td>\n",
       "      <td>250173361001017</td>\n",
       "      <td>25</td>\n",
       "      <td>336100</td>\n",
       "      <td>0.0</td>\n",
       "      <td>2</td>\n",
       "      <td>94</td>\n",
       "    </tr>\n",
       "    <tr>\n",
       "      <th>1033033</th>\n",
       "      <td>1</td>\n",
       "      <td>0.0</td>\n",
       "      <td>0</td>\n",
       "      <td>1</td>\n",
       "      <td>2010000860375</td>\n",
       "      <td>0</td>\n",
       "      <td>0</td>\n",
       "      <td>1</td>\n",
       "      <td>1</td>\n",
       "      <td>9000.0</td>\n",
       "      <td>017</td>\n",
       "      <td>250173361001018</td>\n",
       "      <td>25</td>\n",
       "      <td>336100</td>\n",
       "      <td>0.0</td>\n",
       "      <td>2</td>\n",
       "      <td>89</td>\n",
       "    </tr>\n",
       "  </tbody>\n",
       "</table>\n",
       "</div>"
      ],
      "text/plain": [
       "              race_of_head  workers  recent_mover block_group       serialno  \\\n",
       "household_id                                                                   \n",
       "1033024                  1      0.0             0           1  2010000769167   \n",
       "1033025                  1      0.0             0           1  2011000604701   \n",
       "1033027                  1      0.0             0           2  2011000910010   \n",
       "1033032                  1      0.0             0           1  2011000638851   \n",
       "1033033                  1      0.0             0           1  2010000860375   \n",
       "\n",
       "              hispanic_status_of_head  children  subregion_id  persons  \\\n",
       "household_id                                                             \n",
       "1033024                             0         0             1        1   \n",
       "1033025                             0         0             1        1   \n",
       "1033027                             0         0             1        1   \n",
       "1033032                             0         0             1        1   \n",
       "1033033                             0         0             1        1   \n",
       "\n",
       "               income county         block_id state   tract  cars  tenure  \\\n",
       "household_id                                                                \n",
       "1033024       21400.0    017  250173361001002    25  336100   0.0       1   \n",
       "1033025       11100.0    017  250173361001017    25  336100   0.0       1   \n",
       "1033027       15800.0    017  250173361002000    25  336100   0.0       2   \n",
       "1033032           0.0    017  250173361001017    25  336100   0.0       2   \n",
       "1033033        9000.0    017  250173361001018    25  336100   0.0       2   \n",
       "\n",
       "              age_of_head  \n",
       "household_id               \n",
       "1033024                85  \n",
       "1033025                94  \n",
       "1033027                81  \n",
       "1033032                94  \n",
       "1033033                89  "
      ]
     },
     "execution_count": 15,
     "metadata": {},
     "output_type": "execute_result"
    }
   ],
   "source": [
    "households2050.head()"
   ]
  },
  {
   "cell_type": "code",
   "execution_count": null,
   "metadata": {},
   "outputs": [],
   "source": []
  }
 ],
 "metadata": {
  "interpreter": {
   "hash": "71f481ba50bef21e8445ba2d73ab9150db36c6907015cf0c7567043ac3ac41f2"
  },
  "kernelspec": {
   "display_name": "Python 3.7.6 32-bit ('base': conda)",
   "name": "python3"
  },
  "language_info": {
   "codemirror_mode": {
    "name": "ipython",
    "version": 3
   },
   "file_extension": ".py",
   "mimetype": "text/x-python",
   "name": "python",
   "nbconvert_exporter": "python",
   "pygments_lexer": "ipython3",
   "version": "3.7.6"
  }
 },
 "nbformat": 4,
 "nbformat_minor": 4
}